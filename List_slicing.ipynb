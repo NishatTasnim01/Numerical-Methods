{
  "cells": [
    {
      "cell_type": "markdown",
      "metadata": {
        "id": "view-in-github",
        "colab_type": "text"
      },
      "source": [
        "<a href=\"https://colab.research.google.com/github/NishatTasnim01/Numerical-Methods/blob/main/List_slicing.ipynb\" target=\"_parent\"><img src=\"https://colab.research.google.com/assets/colab-badge.svg\" alt=\"Open In Colab\"/></a>"
      ]
    },
    {
      "cell_type": "markdown",
      "metadata": {
        "id": "jZlC49Q-lJF2"
      },
      "source": [
        "# List Slicing"
      ]
    },
    {
      "cell_type": "markdown",
      "metadata": {
        "id": "iPhf2H_YlJF8"
      },
      "source": [
        "## 1D List Slicing"
      ]
    },
    {
      "cell_type": "code",
      "execution_count": null,
      "metadata": {
        "id": "N0poFJVwlJF-",
        "outputId": "3f2ed96d-5e02-4bc6-ca1b-58a2db317a50",
        "colab": {
          "base_uri": "https://localhost:8080/"
        }
      },
      "outputs": [
        {
          "output_type": "execute_result",
          "data": {
            "text/plain": [
              "array([27, 60, 30, 67,  0, 68, 78, 28, 62, 25])"
            ]
          },
          "metadata": {},
          "execution_count": 2
        }
      ],
      "source": [
        "import numpy as np\n",
        "\n",
        "# generate a random array of 10 integers between 0 and 100\n",
        "a = np.random.randint(0, 100, 10)\n",
        "a"
      ]
    },
    {
      "cell_type": "markdown",
      "metadata": {
        "id": "ljYqp8gClJGB"
      },
      "source": [
        "### Use of : (colon) operator\n",
        "In python, we can access a range of items in a list by using the slicing operator (colon).\n",
        "The syntax of the slicing operator is as follows:\n",
        "\n",
        "$$ list[start:stop:step] $$\n",
        "\n",
        "start: It is the starting index of the sequence. The default value is 0.\n",
        "stop: It is the index of the end of the sequence. The default value is equal to the length of the list.\n",
        "step: It is the incrementation of the index. The default value is 1.\n",
        "\n",
        "Let's see some examples of list slicing."
      ]
    },
    {
      "cell_type": "code",
      "execution_count": null,
      "metadata": {
        "id": "DIcQScl1lJGC",
        "outputId": "0a99fcc7-ef63-4717-b248-c114da01d3dc",
        "colab": {
          "base_uri": "https://localhost:8080/"
        }
      },
      "outputs": [
        {
          "output_type": "execute_result",
          "data": {
            "text/plain": [
              "array([27, 60, 30, 67,  0])"
            ]
          },
          "metadata": {},
          "execution_count": 3
        }
      ],
      "source": [
        "# get the first 5 elements\n",
        "a[:5]"
      ]
    },
    {
      "cell_type": "code",
      "execution_count": null,
      "metadata": {
        "id": "SLBvn-eNlJGE",
        "outputId": "f1e3c7a2-3b84-485c-fc36-b3abc82177cf",
        "colab": {
          "base_uri": "https://localhost:8080/"
        }
      },
      "outputs": [
        {
          "output_type": "execute_result",
          "data": {
            "text/plain": [
              "array([68, 78, 28, 62, 25])"
            ]
          },
          "metadata": {},
          "execution_count": 4
        }
      ],
      "source": [
        "# get the last 5 elements\n",
        "a[5:]"
      ]
    },
    {
      "cell_type": "code",
      "execution_count": null,
      "metadata": {
        "id": "aun_BAh2lJGF",
        "outputId": "7932f039-4c09-48c0-ae7c-de87a8571579",
        "colab": {
          "base_uri": "https://localhost:8080/"
        }
      },
      "outputs": [
        {
          "output_type": "execute_result",
          "data": {
            "text/plain": [
              "array([30, 67,  0])"
            ]
          },
          "metadata": {},
          "execution_count": 5
        }
      ],
      "source": [
        "# get the 3rd to 5th elements\n",
        "a[2:5]"
      ]
    },
    {
      "cell_type": "markdown",
      "metadata": {
        "id": "2xL_XXV3lJGG"
      },
      "source": [
        "### Use of :: (double colon) operator\n",
        "\n",
        "In python, the $::$ operator is used to choose the step size. The step size is the number of elements to skip in the list.\n",
        "If we don't specify the step size, it will be 1 by default.\n",
        "\n",
        "Let's see some examples of list slicing."
      ]
    },
    {
      "cell_type": "code",
      "execution_count": null,
      "metadata": {
        "id": "EfeFSeuolJGI",
        "outputId": "6bb5cca3-25d4-4e6b-aade-9974cecc67cb",
        "colab": {
          "base_uri": "https://localhost:8080/"
        }
      },
      "outputs": [
        {
          "output_type": "execute_result",
          "data": {
            "text/plain": [
              "array([27, 30,  0, 78, 62])"
            ]
          },
          "metadata": {},
          "execution_count": 6
        }
      ],
      "source": [
        "# get the 1st, 3rd, and 5th elements\n",
        "# :: is the step size\n",
        "# 0::2 means start from 0, and take every 2nd element\n",
        "a[::2]"
      ]
    },
    {
      "cell_type": "code",
      "execution_count": null,
      "metadata": {
        "id": "eWY38wDllJGJ",
        "outputId": "99488e84-da9b-4b35-cbba-ff17bf398a8d",
        "colab": {
          "base_uri": "https://localhost:8080/"
        }
      },
      "outputs": [
        {
          "output_type": "execute_result",
          "data": {
            "text/plain": [
              "array([60, 67, 68, 28, 25])"
            ]
          },
          "metadata": {},
          "execution_count": 7
        }
      ],
      "source": [
        "# get the 2nd, 4th, and 6th elements\n",
        "# 1::2 means start from 1, and take every 2nd element\n",
        "a[1::2]"
      ]
    },
    {
      "cell_type": "markdown",
      "metadata": {
        "id": "HCPcaJFMlJGK"
      },
      "source": [
        "### Use of -ve index\n",
        "\n",
        "In python, we can also use the negative index to access the list elements. The negative index starts from -1 for the last element of the list and goes to -n for the first element of the list.\n",
        "\n",
        "Let's see some examples of list slicing."
      ]
    },
    {
      "cell_type": "code",
      "execution_count": null,
      "metadata": {
        "id": "b1c_04-RlJGL",
        "outputId": "251c2af1-2533-431c-f1db-165ff26c1e55",
        "colab": {
          "base_uri": "https://localhost:8080/"
        }
      },
      "outputs": [
        {
          "output_type": "execute_result",
          "data": {
            "text/plain": [
              "25"
            ]
          },
          "metadata": {},
          "execution_count": 8
        }
      ],
      "source": [
        "# get the last element\n",
        "a[-1]"
      ]
    },
    {
      "cell_type": "code",
      "execution_count": null,
      "metadata": {
        "id": "lPiGFiDMlJGM",
        "outputId": "cc6ad051-9b98-46bc-f20e-9a555854041f",
        "colab": {
          "base_uri": "https://localhost:8080/"
        }
      },
      "outputs": [
        {
          "output_type": "execute_result",
          "data": {
            "text/plain": [
              "array([28, 62, 25])"
            ]
          },
          "metadata": {},
          "execution_count": 9
        }
      ],
      "source": [
        "# get the last 3 elements\n",
        "a[-3:]"
      ]
    },
    {
      "cell_type": "code",
      "execution_count": null,
      "metadata": {
        "id": "_L4qsJ-0lJGN",
        "outputId": "73d1e03d-1970-48c2-a8d9-ab81dcd46d32",
        "colab": {
          "base_uri": "https://localhost:8080/"
        }
      },
      "outputs": [
        {
          "output_type": "execute_result",
          "data": {
            "text/plain": [
              "array([28, 78, 68,  0, 67, 30, 60, 27])"
            ]
          },
          "metadata": {},
          "execution_count": 10
        }
      ],
      "source": [
        "# get the last 3 elements in reverse order\n",
        "a[-3::-1]"
      ]
    },
    {
      "cell_type": "markdown",
      "metadata": {
        "id": "JGMY1XXolJGN"
      },
      "source": [
        "## 2D List Slicing"
      ]
    },
    {
      "cell_type": "code",
      "execution_count": null,
      "metadata": {
        "id": "_4hx_uKblJGO",
        "outputId": "d5cdfd1f-561d-42f4-e38e-fed6e18a4642",
        "colab": {
          "base_uri": "https://localhost:8080/"
        }
      },
      "outputs": [
        {
          "output_type": "execute_result",
          "data": {
            "text/plain": [
              "array([[49, 94, 78, 45, 71],\n",
              "       [52, 30, 36, 33, 59],\n",
              "       [88,  5,  8, 18, 51],\n",
              "       [86, 69, 73, 84, 29],\n",
              "       [32, 18, 59, 63, 75],\n",
              "       [12, 32, 95,  0, 26],\n",
              "       [89, 49, 59, 71, 40],\n",
              "       [51, 70, 73, 50, 75],\n",
              "       [45, 34,  0, 57, 27],\n",
              "       [77, 38, 40, 30, 81]])"
            ]
          },
          "metadata": {},
          "execution_count": 11
        }
      ],
      "source": [
        "# generate a 2D array of 10 rows and 5 columns\n",
        "b = np.random.randint(0, 100, (10, 5))\n",
        "b"
      ]
    },
    {
      "cell_type": "code",
      "execution_count": null,
      "metadata": {
        "id": "Vg8n65qrlJGP",
        "outputId": "6ba6a178-6c86-4e07-8597-2d6d70ce4def",
        "colab": {
          "base_uri": "https://localhost:8080/"
        }
      },
      "outputs": [
        {
          "output_type": "execute_result",
          "data": {
            "text/plain": [
              "array([49, 94, 78, 45, 71])"
            ]
          },
          "metadata": {},
          "execution_count": 12
        }
      ],
      "source": [
        "# get the first row\n",
        "b[0]"
      ]
    },
    {
      "cell_type": "code",
      "execution_count": null,
      "metadata": {
        "id": "cqxfYfXIlJGP",
        "outputId": "4cc0e56c-257f-46da-c728-a53684568214",
        "colab": {
          "base_uri": "https://localhost:8080/"
        }
      },
      "outputs": [
        {
          "output_type": "execute_result",
          "data": {
            "text/plain": [
              "array([77, 38, 40, 30, 81])"
            ]
          },
          "metadata": {},
          "execution_count": 13
        }
      ],
      "source": [
        "# get the last row\n",
        "b[-1]"
      ]
    },
    {
      "cell_type": "code",
      "execution_count": null,
      "metadata": {
        "id": "4Pnm-xqnlJGQ",
        "outputId": "68f923ee-7c46-4b72-c330-694276f29be1",
        "colab": {
          "base_uri": "https://localhost:8080/"
        }
      },
      "outputs": [
        {
          "output_type": "execute_result",
          "data": {
            "text/plain": [
              "array([49, 52, 88, 86, 32, 12, 89, 51, 45, 77])"
            ]
          },
          "metadata": {},
          "execution_count": 14
        }
      ],
      "source": [
        "# get the first column\n",
        "b[:, 0]"
      ]
    },
    {
      "cell_type": "code",
      "execution_count": null,
      "metadata": {
        "id": "EYI6_zW0lJGQ",
        "outputId": "0721fb83-0acb-482e-fcdb-71e7e5f1a2df",
        "colab": {
          "base_uri": "https://localhost:8080/"
        }
      },
      "outputs": [
        {
          "output_type": "execute_result",
          "data": {
            "text/plain": [
              "array([71, 59, 51, 29, 75, 26, 40, 75, 27, 81])"
            ]
          },
          "metadata": {},
          "execution_count": 15
        }
      ],
      "source": [
        "# get the last column\n",
        "b[:, -1]"
      ]
    },
    {
      "cell_type": "code",
      "execution_count": null,
      "metadata": {
        "id": "RRpLxY7slJGR",
        "outputId": "3afe79d3-098a-4ad0-a12d-a1b46ee352d0",
        "colab": {
          "base_uri": "https://localhost:8080/"
        }
      },
      "outputs": [
        {
          "output_type": "execute_result",
          "data": {
            "text/plain": [
              "array([[49, 94, 78, 45, 71],\n",
              "       [52, 30, 36, 33, 59],\n",
              "       [88,  5,  8, 18, 51]])"
            ]
          },
          "metadata": {},
          "execution_count": 16
        }
      ],
      "source": [
        "# get the first 3 rows\n",
        "b[:3]"
      ]
    },
    {
      "cell_type": "code",
      "execution_count": null,
      "metadata": {
        "id": "2x9w5MO5lJGS",
        "outputId": "64448a1e-b712-4726-f2b4-f5291d73d458",
        "colab": {
          "base_uri": "https://localhost:8080/"
        }
      },
      "outputs": [
        {
          "output_type": "execute_result",
          "data": {
            "text/plain": [
              "array([[51, 70, 73, 50, 75],\n",
              "       [45, 34,  0, 57, 27],\n",
              "       [77, 38, 40, 30, 81]])"
            ]
          },
          "metadata": {},
          "execution_count": 17
        }
      ],
      "source": [
        "# get the last 3 rows\n",
        "b[-3:]"
      ]
    },
    {
      "cell_type": "code",
      "execution_count": null,
      "metadata": {
        "id": "reViLgbylJGS",
        "outputId": "23cb7669-6ff3-428a-e838-a6b2274d2286",
        "colab": {
          "base_uri": "https://localhost:8080/"
        }
      },
      "outputs": [
        {
          "output_type": "execute_result",
          "data": {
            "text/plain": [
              "array([[49, 94, 78],\n",
              "       [52, 30, 36],\n",
              "       [88,  5,  8],\n",
              "       [86, 69, 73],\n",
              "       [32, 18, 59],\n",
              "       [12, 32, 95],\n",
              "       [89, 49, 59],\n",
              "       [51, 70, 73],\n",
              "       [45, 34,  0],\n",
              "       [77, 38, 40]])"
            ]
          },
          "metadata": {},
          "execution_count": 18
        }
      ],
      "source": [
        "# get the first 3 columns\n",
        "b[:, :3]"
      ]
    },
    {
      "cell_type": "code",
      "execution_count": null,
      "metadata": {
        "id": "cNJIbYErlJGS",
        "outputId": "473a286d-54f6-4578-a849-4d62c6cb50c5",
        "colab": {
          "base_uri": "https://localhost:8080/"
        }
      },
      "outputs": [
        {
          "output_type": "execute_result",
          "data": {
            "text/plain": [
              "array([[78, 45, 71],\n",
              "       [36, 33, 59],\n",
              "       [ 8, 18, 51],\n",
              "       [73, 84, 29],\n",
              "       [59, 63, 75],\n",
              "       [95,  0, 26],\n",
              "       [59, 71, 40],\n",
              "       [73, 50, 75],\n",
              "       [ 0, 57, 27],\n",
              "       [40, 30, 81]])"
            ]
          },
          "metadata": {},
          "execution_count": 19
        }
      ],
      "source": [
        "# get the last 3 columns\n",
        "b[:, -3:]"
      ]
    },
    {
      "cell_type": "code",
      "execution_count": null,
      "metadata": {
        "id": "Y0bNp2ZvlJGT",
        "outputId": "29cb3653-5a81-4e6a-e17e-0c998f3a29fa",
        "colab": {
          "base_uri": "https://localhost:8080/"
        }
      },
      "outputs": [
        {
          "output_type": "execute_result",
          "data": {
            "text/plain": [
              "array([[49, 94, 78],\n",
              "       [52, 30, 36],\n",
              "       [88,  5,  8]])"
            ]
          },
          "metadata": {},
          "execution_count": 20
        }
      ],
      "source": [
        "# get the first 3 rows and first 3 columns\n",
        "b[:3, :3]"
      ]
    },
    {
      "cell_type": "code",
      "execution_count": null,
      "metadata": {
        "id": "CxHfuw8ylJGT",
        "outputId": "fc3c6b13-9e17-4e3f-d71c-f96a9054220b",
        "colab": {
          "base_uri": "https://localhost:8080/"
        }
      },
      "outputs": [
        {
          "output_type": "execute_result",
          "data": {
            "text/plain": [
              "array([[73, 50, 75],\n",
              "       [ 0, 57, 27],\n",
              "       [40, 30, 81]])"
            ]
          },
          "metadata": {},
          "execution_count": 21
        }
      ],
      "source": [
        "# get the last 3 rows and last 3 columns\n",
        "b[-3:, -3:]"
      ]
    },
    {
      "cell_type": "code",
      "execution_count": null,
      "metadata": {
        "id": "izOEQRw6lJGT",
        "outputId": "03e929af-9a0f-4ab2-fadf-e3372bb7d850",
        "colab": {
          "base_uri": "https://localhost:8080/"
        }
      },
      "outputs": [
        {
          "output_type": "execute_result",
          "data": {
            "text/plain": [
              "array([[78, 45, 71],\n",
              "       [36, 33, 59],\n",
              "       [ 8, 18, 51]])"
            ]
          },
          "metadata": {},
          "execution_count": 22
        }
      ],
      "source": [
        "# get the first 3 rows and last 3 columns\n",
        "b[:3, -3:]"
      ]
    },
    {
      "cell_type": "code",
      "execution_count": null,
      "metadata": {
        "id": "4oR9IqLYlJGU",
        "outputId": "88e43dca-dd67-4201-d46d-b7f6727645ab",
        "colab": {
          "base_uri": "https://localhost:8080/"
        }
      },
      "outputs": [
        {
          "output_type": "execute_result",
          "data": {
            "text/plain": [
              "array([[51, 70, 73],\n",
              "       [45, 34,  0],\n",
              "       [77, 38, 40]])"
            ]
          },
          "metadata": {},
          "execution_count": 23
        }
      ],
      "source": [
        "# get the last 3 rows and first 3 columns\n",
        "b[-3:, :3]"
      ]
    },
    {
      "cell_type": "code",
      "execution_count": null,
      "metadata": {
        "id": "Qfdmv9vXlJGU",
        "outputId": "d23b0bbf-1060-4d53-c26b-07c8d726c8ba",
        "colab": {
          "base_uri": "https://localhost:8080/"
        }
      },
      "outputs": [
        {
          "output_type": "execute_result",
          "data": {
            "text/plain": [
              "array([[52, 30, 36, 33, 59],\n",
              "       [86, 69, 73, 84, 29],\n",
              "       [12, 32, 95,  0, 26],\n",
              "       [51, 70, 73, 50, 75],\n",
              "       [77, 38, 40, 30, 81]])"
            ]
          },
          "metadata": {},
          "execution_count": 24
        }
      ],
      "source": [
        "# get the 2nd and 4th rows\n",
        "# 1::2 means start from 1, and take every 2nd element\n",
        "b[1::2]"
      ]
    },
    {
      "cell_type": "code",
      "execution_count": null,
      "metadata": {
        "id": "3iMJCWk_lJGV",
        "outputId": "790c58f5-6259-47b0-f425-2436d29afcb6",
        "colab": {
          "base_uri": "https://localhost:8080/"
        }
      },
      "outputs": [
        {
          "output_type": "execute_result",
          "data": {
            "text/plain": [
              "array([[94, 45],\n",
              "       [30, 33],\n",
              "       [ 5, 18],\n",
              "       [69, 84],\n",
              "       [18, 63],\n",
              "       [32,  0],\n",
              "       [49, 71],\n",
              "       [70, 50],\n",
              "       [34, 57],\n",
              "       [38, 30]])"
            ]
          },
          "metadata": {},
          "execution_count": 25
        }
      ],
      "source": [
        "# get the 2nd and 4th columns\n",
        "# 1::2 means start from 1, and take every 2nd element\n",
        "b[:, 1::2]"
      ]
    },
    {
      "cell_type": "code",
      "execution_count": null,
      "metadata": {
        "id": "nq4Kxog2lJGV",
        "outputId": "b12b2982-35ac-4e30-e777-89b7c4146b22",
        "colab": {
          "base_uri": "https://localhost:8080/"
        }
      },
      "outputs": [
        {
          "output_type": "execute_result",
          "data": {
            "text/plain": [
              "array([[30, 33],\n",
              "       [69, 84]])"
            ]
          },
          "metadata": {},
          "execution_count": 26
        }
      ],
      "source": [
        "# get the 2nd and 4th rows and 2nd and 4th columns\n",
        "# 1::2 means start from 1, and take every 2nd element\n",
        "b[1:4:2, 1::2]"
      ]
    },
    {
      "cell_type": "code",
      "execution_count": null,
      "metadata": {
        "id": "iDTnqHIilJGW",
        "outputId": "853a4701-da18-4911-c493-3dae8ea021fd",
        "colab": {
          "base_uri": "https://localhost:8080/"
        }
      },
      "outputs": [
        {
          "output_type": "execute_result",
          "data": {
            "text/plain": [
              "array([[49, 94, 78, 45, 71],\n",
              "       [88,  5,  8, 18, 51],\n",
              "       [32, 18, 59, 63, 75],\n",
              "       [89, 49, 59, 71, 40],\n",
              "       [45, 34,  0, 57, 27]])"
            ]
          },
          "metadata": {},
          "execution_count": 27
        }
      ],
      "source": [
        "# 0::2 means start from 0, and take every 2nd element\n",
        "b[::2]"
      ]
    },
    {
      "cell_type": "code",
      "execution_count": null,
      "metadata": {
        "id": "M7kDFPPAlJGW"
      },
      "outputs": [],
      "source": [
        "# get the 1st, 3rd, and 5th rows\n",
        "b[:]"
      ]
    }
  ],
  "metadata": {
    "kernelspec": {
      "display_name": "Python 3",
      "language": "python",
      "name": "python3"
    },
    "language_info": {
      "codemirror_mode": {
        "name": "ipython",
        "version": 3
      },
      "file_extension": ".py",
      "mimetype": "text/x-python",
      "name": "python",
      "nbconvert_exporter": "python",
      "pygments_lexer": "ipython3",
      "version": "3.7.4"
    },
    "orig_nbformat": 4,
    "colab": {
      "provenance": [],
      "include_colab_link": true
    }
  },
  "nbformat": 4,
  "nbformat_minor": 0
}