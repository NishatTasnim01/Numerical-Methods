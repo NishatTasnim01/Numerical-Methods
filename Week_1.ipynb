{
  "cells": [
    {
      "cell_type": "markdown",
      "metadata": {
        "id": "view-in-github",
        "colab_type": "text"
      },
      "source": [
        "<a href=\"https://colab.research.google.com/github/NishatTasnim01/Numerical-Methods/blob/main/Week_1.ipynb\" target=\"_parent\"><img src=\"https://colab.research.google.com/assets/colab-badge.svg\" alt=\"Open In Colab\"/></a>"
      ]
    },
    {
      "cell_type": "markdown",
      "metadata": {
        "id": "kop1DabdyxAC"
      },
      "source": [
        "# Learning Numpy"
      ]
    },
    {
      "cell_type": "markdown",
      "metadata": {
        "id": "RdgVJzugyxAD"
      },
      "source": [
        "### Random numbers\n",
        "\n",
        "for more visit : https://www.w3schools.com/python/numpy/numpy_random.asp"
      ]
    },
    {
      "cell_type": "code",
      "execution_count": null,
      "metadata": {
        "trusted": true,
        "id": "fTW8SA8TyxAE"
      },
      "outputs": [],
      "source": [
        "# importing numpy\n",
        "\n",
        "import numpy as np"
      ]
    },
    {
      "cell_type": "code",
      "execution_count": null,
      "metadata": {
        "colab": {
          "base_uri": "https://localhost:8080/"
        },
        "id": "3P5q42M7yxAE",
        "outputId": "d036b395-898f-4ff3-f51b-0619b76799ce"
      },
      "outputs": [
        {
          "output_type": "execute_result",
          "data": {
            "text/plain": [
              "array([[0.59979218, 0.77210975, 0.39440776],\n",
              "       [0.47482294, 0.6801466 , 0.77809363]])"
            ]
          },
          "metadata": {},
          "execution_count": 3
        }
      ],
      "source": [
        "# generate an array of dim 2x3 random numbers in the interval of [0, 1)\n",
        "a = np.random.rand(2, 3)\n",
        "a"
      ]
    },
    {
      "cell_type": "code",
      "execution_count": null,
      "metadata": {
        "colab": {
          "base_uri": "https://localhost:8080/"
        },
        "id": "0LIxBYIKyxAF",
        "outputId": "9ed4d7c4-f349-4341-9a44-f22cf0142a83"
      },
      "outputs": [
        {
          "output_type": "execute_result",
          "data": {
            "text/plain": [
              "array([[-0.95362157, -1.29080645,  0.67819515],\n",
              "       [-0.47023819, -1.38642097,  1.041946  ]])"
            ]
          },
          "metadata": {},
          "execution_count": 4
        }
      ],
      "source": [
        "# generate an array of dim 2x3 random numbers (includes negative numbers)\n",
        "a = np.random.randn(2, 3)\n",
        "a"
      ]
    },
    {
      "cell_type": "code",
      "execution_count": null,
      "metadata": {
        "trusted": true,
        "id": "-N_uj8O1yxAF",
        "outputId": "49c3ea4c-5f07-4fd9-bbda-37acfec70191"
      },
      "outputs": [
        {
          "data": {
            "text/plain": [
              "array([[4, 6, 1],\n",
              "       [9, 9, 2]])"
            ]
          },
          "execution_count": 15,
          "metadata": {},
          "output_type": "execute_result"
        }
      ],
      "source": [
        "# generate an array of dim 2x3 of random integers in the interval of [1, 10)\n",
        "\n",
        "a = np.random.randint(1, 10, size=(2, 3))\n",
        "a"
      ]
    },
    {
      "cell_type": "markdown",
      "metadata": {
        "id": "eDqFvgfGyxAF"
      },
      "source": [
        "### Some Numerical Functions"
      ]
    },
    {
      "cell_type": "code",
      "execution_count": null,
      "metadata": {
        "trusted": true,
        "id": "_LOR_fZ6yxAG",
        "outputId": "0eabdf28-460c-453b-a138-c369ab3d4b4f"
      },
      "outputs": [
        {
          "data": {
            "text/plain": [
              "array([6.5, 7.5, 1.5])"
            ]
          },
          "execution_count": 19,
          "metadata": {},
          "output_type": "execute_result"
        }
      ],
      "source": [
        "# getting the mean of the columns\n",
        "# here axis = 0 means column\n",
        "\n",
        "np.mean(a, axis=0)"
      ]
    },
    {
      "cell_type": "code",
      "execution_count": null,
      "metadata": {
        "trusted": true,
        "id": "9b420mmhyxAG",
        "outputId": "ebc21e4f-483e-4c58-e81b-830ba0192664"
      },
      "outputs": [
        {
          "data": {
            "text/plain": [
              "array([3.66666667, 6.66666667])"
            ]
          },
          "execution_count": 17,
          "metadata": {},
          "output_type": "execute_result"
        }
      ],
      "source": [
        "# axis = 1 means row\n",
        "np.mean(a, axis=1)"
      ]
    },
    {
      "cell_type": "code",
      "execution_count": null,
      "metadata": {
        "trusted": true,
        "id": "ePPChhORyxAG",
        "outputId": "2242b4c2-2852-49bc-e4ed-787b45623256"
      },
      "outputs": [
        {
          "data": {
            "text/plain": [
              "1.5"
            ]
          },
          "execution_count": 20,
          "metadata": {},
          "output_type": "execute_result"
        }
      ],
      "source": [
        "# extracting the third element of the columnwise means\n",
        "\n",
        "np.mean(a, axis=0)[2]"
      ]
    },
    {
      "cell_type": "code",
      "execution_count": null,
      "metadata": {
        "id": "MY05MsajyxAH",
        "outputId": "87d93131-9333-4306-98f3-ff90dc59bb25"
      },
      "outputs": [
        {
          "data": {
            "text/plain": [
              "array([[0., 0., 0.],\n",
              "       [0., 0., 0.]])"
            ]
          },
          "execution_count": 9,
          "metadata": {},
          "output_type": "execute_result"
        }
      ],
      "source": [
        "# generate an array of 0s of dim 2x3\n",
        "np.zeros((2,3))"
      ]
    },
    {
      "cell_type": "code",
      "execution_count": null,
      "metadata": {
        "id": "76Z2AAdkyxAH",
        "outputId": "bed862fb-30c5-4968-eb33-ab8005138598"
      },
      "outputs": [
        {
          "data": {
            "text/plain": [
              "array([[1., 1., 1.],\n",
              "       [1., 1., 1.]])"
            ]
          },
          "execution_count": 10,
          "metadata": {},
          "output_type": "execute_result"
        }
      ],
      "source": [
        "# generate an array of 1s of dim 2x3\n",
        "np.ones((2,3))"
      ]
    },
    {
      "cell_type": "code",
      "execution_count": null,
      "metadata": {
        "id": "07r3UjbgyxAH"
      },
      "outputs": [],
      "source": [
        "# generate an array of 0s of dim 2x3\n",
        "np.zeros((2,3))"
      ]
    },
    {
      "cell_type": "code",
      "execution_count": null,
      "metadata": {
        "id": "2l1FTQ63yxAH",
        "outputId": "7c199d20-a884-4be7-d6d5-e13a053b3dd7"
      },
      "outputs": [
        {
          "data": {
            "text/plain": [
              "array([[1., 0., 0.],\n",
              "       [0., 1., 0.],\n",
              "       [0., 0., 1.]])"
            ]
          },
          "execution_count": 11,
          "metadata": {},
          "output_type": "execute_result"
        }
      ],
      "source": [
        "# generate identity matrix of dim 3x3\n",
        "np.eye(3)"
      ]
    },
    {
      "cell_type": "code",
      "execution_count": null,
      "metadata": {
        "id": "zhGLWR9QyxAH",
        "outputId": "d241ce02-9b10-4c83-8c28-5270e5b1141b"
      },
      "outputs": [
        {
          "data": {
            "text/plain": [
              "array([[1, 0, 0, 0],\n",
              "       [0, 2, 0, 0],\n",
              "       [0, 0, 3, 0],\n",
              "       [0, 0, 0, 4]])"
            ]
          },
          "execution_count": 12,
          "metadata": {},
          "output_type": "execute_result"
        }
      ],
      "source": [
        "# generate diagonal matrix given a vector\n",
        "np.diag([1, 2, 3, 4])"
      ]
    },
    {
      "cell_type": "markdown",
      "metadata": {
        "id": "AtzowMkpyxAI"
      },
      "source": [
        "for more visit : https://www.w3schools.com/python/numpy/numpy_ufunc.asp"
      ]
    },
    {
      "cell_type": "markdown",
      "metadata": {
        "id": "LSH0fzDjyxAI"
      },
      "source": [
        "# Harmonic Series\n",
        "\n",
        "The harmonic series is defined as:\n",
        "\n",
        "$$\n",
        "H_n = \\sum_{{k=1}}^{{n}} \\frac{1}{k} = 1 + \\frac{1}{2} + \\frac{1}{3} + \\frac{1}{4} + \\ldots + \\frac{1}{n}\n",
        "$$\n",
        "\n",
        "Where:\n",
        "- $ H_n $ is the nth harmonic number.\n",
        "- $ \\sum $ denotes the summation notation.\n",
        "- $ k $ is the index variable from 1 to $ n $."
      ]
    },
    {
      "cell_type": "code",
      "execution_count": null,
      "metadata": {
        "trusted": true,
        "id": "WbUC79hKyxAI",
        "outputId": "fa0788a1-aa8c-4ab3-cc5d-db44ade73db1"
      },
      "outputs": [
        {
          "data": {
            "text/plain": [
              "[1.0, 0.5, 0.3333333333333333, 0.25]"
            ]
          },
          "execution_count": 23,
          "metadata": {},
          "output_type": "execute_result"
        }
      ],
      "source": [
        "# Harmonic Series\n",
        "\n",
        "def har(n):\n",
        "    \"\"\"\n",
        "    params:\n",
        "        n: number of terms to find of the harmonic series\n",
        "    returns: a list with the n elements  of the series\n",
        "    \"\"\"\n",
        "    a = []\n",
        "    for i in range(1, n+1):\n",
        "        a.append(1/i)\n",
        "\n",
        "    return a\n",
        "\n",
        "har(4)"
      ]
    },
    {
      "cell_type": "code",
      "execution_count": null,
      "metadata": {
        "trusted": true,
        "id": "zfmtVuKwyxAI",
        "outputId": "7760d8a2-0008-4faa-97cd-906bf19768b4"
      },
      "outputs": [
        {
          "data": {
            "text/plain": [
              "5.187377517639621"
            ]
          },
          "execution_count": 25,
          "metadata": {},
          "output_type": "execute_result"
        }
      ],
      "source": [
        "# get the sum of first 100 terms of the harmonic series\n",
        "np.sum(har(100))"
      ]
    },
    {
      "cell_type": "markdown",
      "metadata": {
        "id": "9NJQQyjVyxAI"
      },
      "source": [
        "# Harmonic Mean\n",
        "\n",
        "The harmonic mean of a set of positive numbers $ x_1, x_2, \\ldots, x_n $ is defined as:\n",
        "\n",
        "$$\n",
        "H = \\frac{n}{\\frac{1}{{x_1}} + \\frac{1}{{x_2}} + \\ldots + \\frac{1}{{x_n}}}\n",
        "$$\n",
        "\n",
        "Where:\n",
        "- $ H $ is the harmonic mean.\n",
        "- $ n $ is the number of elements in the set.\n",
        "- $ x_1, x_2, \\ldots, x_n $ are the positive numbers."
      ]
    },
    {
      "cell_type": "code",
      "execution_count": null,
      "metadata": {
        "trusted": true,
        "id": "nVmhPwdtyxAI"
      },
      "outputs": [],
      "source": [
        "# Harmonic Mean\n",
        "\n",
        "def har_mean(arr):\n",
        "    \"\"\"\n",
        "    params:\n",
        "        arr: list containing x1, x2, ...\n",
        "    returns: the harmonic mean of the input array\n",
        "    \"\"\"\n",
        "    sum = 0\n",
        "    for i in arr:\n",
        "        sum += 1/i\n",
        "\n",
        "    return len(arr)/sum"
      ]
    },
    {
      "cell_type": "code",
      "execution_count": null,
      "metadata": {
        "trusted": true,
        "id": "VkTxRZnLyxAI",
        "outputId": "6f495df2-6767-4058-8bdd-af94401f4328"
      },
      "outputs": [
        {
          "data": {
            "text/plain": [
              "1.9200000000000004"
            ]
          },
          "execution_count": 27,
          "metadata": {},
          "output_type": "execute_result"
        }
      ],
      "source": [
        "har_mean(np.array([1, 2, 3, 4]))"
      ]
    },
    {
      "cell_type": "markdown",
      "metadata": {
        "id": "i6StVYuNyxAI"
      },
      "source": [
        "# Generating plots with Pyplot\n",
        "for more visit : https://www.w3schools.com/python/matplotlib_intro.asp"
      ]
    },
    {
      "cell_type": "code",
      "execution_count": null,
      "metadata": {
        "trusted": true,
        "id": "rnLATO3iyxAI"
      },
      "outputs": [],
      "source": [
        "import matplotlib.pyplot as plt"
      ]
    },
    {
      "cell_type": "code",
      "execution_count": null,
      "metadata": {
        "trusted": true,
        "id": "YFH8BtIvyxAJ",
        "outputId": "910b318d-96d3-4677-8d1c-ad3add65eff3",
        "colab": {
          "base_uri": "https://localhost:8080/"
        }
      },
      "outputs": [
        {
          "output_type": "error",
          "ename": "NameError",
          "evalue": "name 'plt' is not defined",
          "traceback": [
            "\u001b[0;31m---------------------------------------------------------------------------\u001b[0m",
            "\u001b[0;31mNameError\u001b[0m                                 Traceback (most recent call last)",
            "\u001b[0;32m<ipython-input-1-3cc59cab7ddd>\u001b[0m in \u001b[0;36m<cell line: 3>\u001b[0;34m()\u001b[0m\n\u001b[1;32m      1\u001b[0m \u001b[0mx\u001b[0m \u001b[0;34m=\u001b[0m \u001b[0;34m[\u001b[0m\u001b[0;36m1\u001b[0m\u001b[0;34m,\u001b[0m \u001b[0;36m2\u001b[0m\u001b[0;34m,\u001b[0m \u001b[0;36m3\u001b[0m\u001b[0;34m]\u001b[0m\u001b[0;34m\u001b[0m\u001b[0;34m\u001b[0m\u001b[0m\n\u001b[1;32m      2\u001b[0m \u001b[0my\u001b[0m \u001b[0;34m=\u001b[0m \u001b[0;34m[\u001b[0m\u001b[0;36m2\u001b[0m\u001b[0;34m,\u001b[0m \u001b[0;36m4\u001b[0m\u001b[0;34m,\u001b[0m \u001b[0;36m6\u001b[0m\u001b[0;34m]\u001b[0m\u001b[0;34m\u001b[0m\u001b[0;34m\u001b[0m\u001b[0m\n\u001b[0;32m----> 3\u001b[0;31m \u001b[0mplt\u001b[0m\u001b[0;34m.\u001b[0m\u001b[0mplot\u001b[0m\u001b[0;34m(\u001b[0m\u001b[0mx\u001b[0m\u001b[0;34m,\u001b[0m \u001b[0my\u001b[0m\u001b[0;34m)\u001b[0m\u001b[0;34m\u001b[0m\u001b[0;34m\u001b[0m\u001b[0m\n\u001b[0m\u001b[1;32m      4\u001b[0m \u001b[0mplt\u001b[0m\u001b[0;34m.\u001b[0m\u001b[0mxlabel\u001b[0m\u001b[0;34m(\u001b[0m\u001b[0;34m\"X\"\u001b[0m\u001b[0;34m)\u001b[0m\u001b[0;34m\u001b[0m\u001b[0;34m\u001b[0m\u001b[0m\n\u001b[1;32m      5\u001b[0m \u001b[0mplt\u001b[0m\u001b[0;34m.\u001b[0m\u001b[0mylabel\u001b[0m\u001b[0;34m(\u001b[0m\u001b[0;34m\"Y\"\u001b[0m\u001b[0;34m)\u001b[0m\u001b[0;34m\u001b[0m\u001b[0;34m\u001b[0m\u001b[0m\n",
            "\u001b[0;31mNameError\u001b[0m: name 'plt' is not defined"
          ]
        }
      ],
      "source": [
        "x = [1, 2, 3]\n",
        "y = [2, 4, 6]\n",
        "plt.plot(x, y)\n",
        "plt.xlabel(\"X\")\n",
        "plt.ylabel(\"Y\")\n",
        "plt.title(\"y=x+1\")\n",
        "plt.show()"
      ]
    },
    {
      "cell_type": "code",
      "execution_count": null,
      "metadata": {
        "trusted": true,
        "id": "SHfzGEkAyxAJ",
        "outputId": "39719d55-949b-4dfb-f381-8ccf7c7de537"
      },
      "outputs": [
        {
          "name": "stdout",
          "output_type": "stream",
          "text": [
            "[0, 1.5707963267948966, 3.141592653589793, 4.71238898038469, 6.283185307179586]\n",
            "[ 0.0000000e+00  1.0000000e+00  1.2246468e-16 -1.0000000e+00\n",
            " -2.4492936e-16]\n"
          ]
        },
        {
          "data": {
            "image/png": "[encoded data removed]",
            "text/plain": [
              "<Figure size 640x480 with 1 Axes>"
            ]
          },
          "metadata": {},
          "output_type": "display_data"
        }
      ],
      "source": [
        "# plotting the sin function for 5 x values\n",
        "\n",
        "x = [0, np.pi/2, np.pi, 3/2 * np.pi, 2 * np.pi]     # 0, 90, 180, 270 and 260 degrees\n",
        "y = np.sin(x)\n",
        "\n",
        "print(x)\n",
        "print(y)\n",
        "\n",
        "plt.plot(x, y)\n",
        "plt.xlabel(\"x\")\n",
        "plt.ylabel(\"sin(x)\")\n",
        "plt.title(\"f(x) = sin(x)\")\n",
        "plt.show()"
      ]
    },
    {
      "cell_type": "markdown",
      "metadata": {
        "id": "Z80lCVq3yxAJ"
      },
      "source": [
        "#### remarks : less points give poor approximation"
      ]
    },
    {
      "cell_type": "code",
      "execution_count": null,
      "metadata": {
        "id": "7_7OFkiIyxAJ",
        "outputId": "d1e56b8f-d793-430b-d842-f4c6b47e5e55"
      },
      "outputs": [
        {
          "data": {
            "text/plain": [
              "array([  1.,  12.,  23.,  34.,  45.,  56.,  67.,  78.,  89., 100.])"
            ]
          },
          "execution_count": 30,
          "metadata": {},
          "output_type": "execute_result"
        }
      ],
      "source": [
        "x = np.linspace(1, 100, 10)   # (start, end, step size)\n",
        "x"
      ]
    },
    {
      "cell_type": "code",
      "execution_count": null,
      "metadata": {
        "trusted": true,
        "id": "3X_AZRJCyxAJ",
        "outputId": "0b96811c-455e-45ed-d9b7-c54deee3983a"
      },
      "outputs": [
        {
          "data": {
            "image/png": "[encoded data removed]",
            "text/plain": [
              "<Figure size 640x480 with 1 Axes>"
            ]
          },
          "metadata": {},
          "output_type": "display_data"
        }
      ],
      "source": [
        "x = np.linspace(0, 2 * np.pi, 1000)     # taking 1000 values in the interval of [0, 2*pi]\n",
        "y = np.sin(x)\n",
        "\n",
        "plt.plot(x, y)\n",
        "plt.xlabel(\"x\")\n",
        "plt.ylabel(\"sin(x)\")\n",
        "plt.title(\"f(x) = sin(x)\")\n",
        "plt.show()"
      ]
    }
  ],
  "metadata": {
    "kernelspec": {
      "display_name": "Python 3",
      "language": "python",
      "name": "python3"
    },
    "language_info": {
      "codemirror_mode": {
        "name": "ipython",
        "version": 3
      },
      "file_extension": ".py",
      "mimetype": "text/x-python",
      "name": "python",
      "nbconvert_exporter": "python",
      "pygments_lexer": "ipython3",
      "version": "3.11.4"
    },
    "colab": {
      "provenance": [],
      "include_colab_link": true
    }
  },
  "nbformat": 4,
  "nbformat_minor": 0
}