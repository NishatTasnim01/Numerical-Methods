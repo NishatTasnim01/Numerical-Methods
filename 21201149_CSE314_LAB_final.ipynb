{
  "nbformat": 4,
  "nbformat_minor": 0,
  "metadata": {
    "colab": {
      "provenance": []
    },
    "kernelspec": {
      "name": "python3",
      "display_name": "Python 3"
    },
    "language_info": {
      "name": "python"
    }
  },
  "cells": [
    {
      "cell_type": "markdown",
      "source": [
        "# **Question 01 :**"
      ],
      "metadata": {
        "id": "ecAphtxSUaC1"
      }
    },
    {
      "cell_type": "code",
      "source": [
        "def f(x):\n",
        "    return 3 * x**3 - 2 * x**2 - 3"
      ],
      "metadata": {
        "id": "XcXZVhCtR3tG"
      },
      "execution_count": 11,
      "outputs": []
    },
    {
      "cell_type": "code",
      "source": [
        "def true_value(x):\n",
        "    return 9 * x**2 - 4 * x"
      ],
      "metadata": {
        "id": "hIXZ4bvfR3v2"
      },
      "execution_count": 12,
      "outputs": []
    },
    {
      "cell_type": "code",
      "source": [
        "def cdd(f, x, h):\n",
        "    return (f(x + h) - f(x - h)) / (2 * h)"
      ],
      "metadata": {
        "id": "xxnIfWbYR3ym"
      },
      "execution_count": 13,
      "outputs": []
    },
    {
      "cell_type": "code",
      "source": [
        "x = 3\n",
        "h = 0.001"
      ],
      "metadata": {
        "id": "FFo2e-8nR31O"
      },
      "execution_count": 14,
      "outputs": []
    },
    {
      "cell_type": "code",
      "source": [
        "approx_value = cdd(f, x, h)"
      ],
      "metadata": {
        "id": "sUOPibdtTmkf"
      },
      "execution_count": 15,
      "outputs": []
    },
    {
      "cell_type": "code",
      "source": [
        "true_value = true_value(x)"
      ],
      "metadata": {
        "id": "HxRhMoJmTtEl"
      },
      "execution_count": 16,
      "outputs": []
    },
    {
      "cell_type": "code",
      "source": [
        "absolute_relative_error = abs((true_value - approx_value) / true_value) * 100"
      ],
      "metadata": {
        "id": "yDtp82HfTz99"
      },
      "execution_count": 17,
      "outputs": []
    },
    {
      "cell_type": "code",
      "source": [
        "print(f\"Approximate Derivative = {x}: {approx_value: f}\")\n",
        "print(f\"Exact Derivative at x = {x}: {true_value: f}\")\n",
        "print(f\"Absolute Relative True Error (ARTE): {absolute_relative_error: f}%\")"
      ],
      "metadata": {
        "colab": {
          "base_uri": "https://localhost:8080/"
        },
        "id": "3vvMvU15T9yX",
        "outputId": "1158a0a4-336b-4ed2-a63b-ff9df568d849"
      },
      "execution_count": 19,
      "outputs": [
        {
          "output_type": "stream",
          "name": "stdout",
          "text": [
            "Approximate Derivative = 3:  69.000003\n",
            "Exact Derivative at x = 3:  69.000000\n",
            "Absolute Relative True Error (ARTE):  0.000004%\n"
          ]
        }
      ]
    },
    {
      "cell_type": "markdown",
      "source": [
        "# **Questin 02 :**"
      ],
      "metadata": {
        "id": "_c6c7ghMUvJ0"
      }
    },
    {
      "cell_type": "code",
      "source": [
        "def f(x):\n",
        "    return 3 * x**3 - 2 * x**2 - 3"
      ],
      "metadata": {
        "id": "u0umZaHEUnxm"
      },
      "execution_count": 44,
      "outputs": []
    },
    {
      "cell_type": "code",
      "source": [
        "def f_prime(x):\n",
        "    return 9 * x**2 - 4 * x"
      ],
      "metadata": {
        "id": "ivPt3CFcVBWV"
      },
      "execution_count": 45,
      "outputs": []
    },
    {
      "cell_type": "code",
      "source": [
        "def newton_raphson(x0, t=0.01, max_i=100):\n",
        "    for iteration in range(max_i):\n",
        "        fx = f(x0)\n",
        "        fpx = f_prime(x0)\n",
        "\n",
        "        if abs(fpx) < 1e-6:\n",
        "            print(\"Derivative too small, stopping iteration.\")\n",
        "            break\n",
        "\n",
        "        x1 = x0 - fx / fpx\n",
        "        error = abs((x1 - x0)/x1) * 100\n",
        "\n",
        "        print(f\"Iteration {iteration + 1}: x = {x1: f}, f(x) = {fx: f}, Error = {error: f}\")\n",
        "\n",
        "        if error < t:\n",
        "            return x1\n",
        "\n",
        "        x0 = x1\n",
        "\n",
        "    print(\"Max iterations reached.\")\n",
        "    return x1\n",
        "\n",
        "x0 = 1\n",
        "root = newton_raphson(x0)\n",
        "print(f\"Estimated Root: {root: f}\")"
      ],
      "metadata": {
        "colab": {
          "base_uri": "https://localhost:8080/"
        },
        "id": "RTEEJqZaV2ZN",
        "outputId": "007354de-868c-495f-d9e7-87bf1a24bd67"
      },
      "execution_count": 46,
      "outputs": [
        {
          "output_type": "stream",
          "name": "stdout",
          "text": [
            "Iteration 1: x =  1.400000, f(x) = -2.000000, Error =  28.571429\n",
            "Iteration 2: x =  1.291030, f(x) =  1.312000, Error =  8.440556\n",
            "Iteration 3: x =  1.278629, f(x) =  0.121988, Error =  0.969888\n",
            "Iteration 4: x =  1.278475, f(x) =  0.001474, Error =  0.012007\n",
            "Iteration 5: x =  1.278475, f(x) =  0.000000, Error =  0.000002\n",
            "Estimated Root:  1.278475\n"
          ]
        }
      ]
    }
  ]
}