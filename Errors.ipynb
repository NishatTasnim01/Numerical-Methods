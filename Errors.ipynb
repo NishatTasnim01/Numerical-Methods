{
  "cells": [
    {
      "cell_type": "markdown",
      "metadata": {
        "id": "view-in-github",
        "colab_type": "text"
      },
      "source": [
        "<a href=\"https://colab.research.google.com/github/NishatTasnim01/Numerical-Methods/blob/main/Errors.ipynb\" target=\"_parent\"><img src=\"https://colab.research.google.com/assets/colab-badge.svg\" alt=\"Open In Colab\"/></a>"
      ]
    },
    {
      "cell_type": "code",
      "execution_count": null,
      "metadata": {
        "id": "AVgkJV4ThwoO"
      },
      "outputs": [],
      "source": [
        "import numpy as np\n",
        "import matplotlib.pyplot as plt"
      ]
    },
    {
      "cell_type": "markdown",
      "metadata": {
        "id": "bdCTPhzIhwoP"
      },
      "source": [
        "# Derivative\n",
        "\n",
        "The derivative of a function $f(x)$ is defined as\n",
        "\n",
        "$$\n",
        "f'(x) = \\lim_{h \\to 0} \\frac{f(x+h) - f(x)}{h}\n",
        "$$\n",
        "\n",
        "This method is also known as Forward Difference Approximation (FDD)"
      ]
    },
    {
      "cell_type": "code",
      "execution_count": null,
      "metadata": {
        "id": "5SxoAb9JhwoQ"
      },
      "outputs": [],
      "source": [
        "def derivative(f, x, h=0.001):\n",
        "    return (f(x+h) - f(x)) / (h)"
      ]
    },
    {
      "cell_type": "markdown",
      "metadata": {
        "id": "V-FjTc9dhwoR"
      },
      "source": [
        "Let's consider the function : $$f(x) = 7e^{0.5x}$$\n",
        "The derivative of this function is : $$f'(x) = 7\\times 0.5e^{0.5x} = 3.5e^{0.5x}$$\n",
        "\n",
        "At x = 2, the derivative of the function is $$3.5e^{0.5 \\times 2} = 3.5e = 9.513986399606658$$\n",
        "\n",
        "Let's approximate the derivative of the function at x = 2 using the definition of the derivative for different values of h."
      ]
    },
    {
      "cell_type": "code",
      "execution_count": null,
      "metadata": {
        "id": "3juc5Ub2hwoR"
      },
      "outputs": [],
      "source": [
        "def f(x):\n",
        "    return 7 * np.exp(0.5 * x)"
      ]
    },
    {
      "cell_type": "code",
      "execution_count": null,
      "metadata": {
        "id": "4sTxWcIXhwoR",
        "outputId": "426fe904-a671-437b-e245-f1ae86a56251"
      },
      "outputs": [
        {
          "data": {
            "text/plain": [
              "19.027972799213316"
            ]
          },
          "execution_count": 40,
          "metadata": {},
          "output_type": "execute_result"
        }
      ],
      "source": [
        "# let's check the value of the function at x = 2\n",
        "f(2)"
      ]
    },
    {
      "cell_type": "code",
      "execution_count": null,
      "metadata": {
        "id": "8YYd8GN9hwoS",
        "outputId": "87dd1c9c-2042-4621-c4fe-7dcbe654ca3e"
      },
      "outputs": [
        {
          "data": {
            "text/plain": [
              "10.264591895383516"
            ]
          },
          "execution_count": 41,
          "metadata": {},
          "output_type": "execute_result"
        }
      ],
      "source": [
        "# now let's see the derivative of the function at x=2 and for step size, h=0.3\n",
        "derivative(f, 2, h=0.3)"
      ]
    },
    {
      "cell_type": "code",
      "execution_count": null,
      "metadata": {
        "id": "WIcDAVbbhwoS",
        "outputId": "9949d580-ece6-4291-806b-9680ec23af1f"
      },
      "outputs": [
        {
          "name": "stdout",
          "output_type": "stream",
          "text": [
            "h =  0.3 ; derivative =  10.264591895383516\n",
            "h =  0.15 ; derivative =  9.879850030150621\n",
            "h =  0.1 ; derivative =  9.755850272288313\n",
            "h =  0.05 ; derivative =  9.633908494952763\n",
            "h =  0.01 ; derivative =  9.537811056816992\n",
            "h =  0.001 ; derivative =  9.516365292672191\n"
          ]
        }
      ],
      "source": [
        "# let's take multiple values of h and find the derivative of f(x) at x=2\n",
        "\n",
        "h = [0.3, 0.15, 0.1, 0.05, 0.01, 0.001]\n",
        "x = 2\n",
        "for i in h:\n",
        "    print(\"h = \", i, \"; derivative = \", derivative(f, x, i))"
      ]
    },
    {
      "cell_type": "markdown",
      "metadata": {
        "id": "RUjUjoX1hwoS"
      },
      "source": [
        "# True Error\n",
        "\n",
        "$$ True Error = True Value - Approximate Value $$"
      ]
    },
    {
      "cell_type": "code",
      "execution_count": null,
      "metadata": {
        "id": "QCwYKoTmhwoS",
        "outputId": "f9ae6ca5-bb8b-4de0-facb-0d16dac42c28"
      },
      "outputs": [
        {
          "name": "stdout",
          "output_type": "stream",
          "text": [
            "h =  0.3 ; derivative =  10.264591895383516 ; true error =  0.750605495776858\n",
            "h =  0.15 ; derivative =  9.879850030150621 ; true error =  0.36586363054396287\n",
            "h =  0.1 ; derivative =  9.755850272288313 ; true error =  0.24186387268165532\n",
            "h =  0.05 ; derivative =  9.633908494952763 ; true error =  0.1199220953461051\n",
            "h =  0.01 ; derivative =  9.537811056816992 ; true error =  0.023824657210333555\n",
            "h =  0.001 ; derivative =  9.516365292672191 ; true error =  0.00237889306553285\n"
          ]
        }
      ],
      "source": [
        "# let's find the derivatives of f(x) at x = 2 for different values of h\n",
        "# and find the errors\n",
        "\n",
        "true_value = 9.513986399606658\n",
        "h = [0.3, 0.15, 0.1, 0.05, 0.01, 0.001]\n",
        "x = 2\n",
        "for i in h:\n",
        "    approx_value = derivative(f, x, i)\n",
        "    print(\"h = \", i, \"; derivative = \", approx_value, \"; true error = \", abs(true_value - approx_value))"
      ]
    },
    {
      "cell_type": "markdown",
      "metadata": {
        "id": "i2qI2CSfhwoT"
      },
      "source": [
        "# Relative True Error\n",
        "\n",
        "$$ Relative True Error = \\frac{True Error}{True Value} \\times 100\\% $$"
      ]
    },
    {
      "cell_type": "code",
      "execution_count": null,
      "metadata": {
        "id": "nhonjlEUhwoT",
        "outputId": "0f04f5e0-e33d-46ed-ee9e-0d222a233e00"
      },
      "outputs": [
        {
          "name": "stdout",
          "output_type": "stream",
          "text": [
            "h =  0.3 ; derivative =  10.264591895383516 ; RTE =  7.889495152188685 %\n",
            "h =  0.15 ; derivative =  9.879850030150621 ; RTE =  3.8455345128419456 %\n",
            "h =  0.1 ; derivative =  9.755850272288313 ; RTE =  2.5421927520482352 %\n",
            "h =  0.05 ; derivative =  9.633908494952763 ; RTE =  1.2604820977152449 %\n",
            "h =  0.01 ; derivative =  9.537811056816992 ; RTE =  0.2504171880182481 %\n",
            "h =  0.001 ; derivative =  9.516365292672191 ; RTE =  0.025004167187281264 %\n"
          ]
        }
      ],
      "source": [
        "# let's find the derivatives of f(x) at x = 2 for different values of h\n",
        "# and find the errors\n",
        "\n",
        "true_value = 9.513986399606658\n",
        "h = [0.3, 0.15, 0.1, 0.05, 0.01, 0.001]\n",
        "x = 2\n",
        "for i in h:\n",
        "    approx_value = derivative(f, x, i)\n",
        "    print(\"h = \", i, \"; derivative = \", approx_value, \"; RTE = \", (abs(true_value - approx_value)) * 100 /true_value, \"%\")"
      ]
    },
    {
      "cell_type": "markdown",
      "metadata": {
        "id": "1QoM2t2yhwoT"
      },
      "source": [
        "# Approximate Error\n",
        "$$ Approximate Error = Present Approximation - Previous Approximation $$\n",
        "$$ Relative Approximate Error = \\frac{Present Approximation - Previous Approximation}{Present Approximation} \\times 100\\% $$"
      ]
    },
    {
      "cell_type": "code",
      "execution_count": null,
      "metadata": {
        "id": "Gg5wol9PhwoT",
        "outputId": "820ed6a2-9235-4994-e373-2228df3aada3"
      },
      "outputs": [
        {
          "name": "stdout",
          "output_type": "stream",
          "text": [
            "First approximation:  10.264591895383516\n",
            "\n",
            "Previous approximation for h =  0.15  is:  10.264591895383516\n",
            "Present approximation for h =  0.15  is:  9.879850030150621\n",
            "RAE:  3.8942075442316164 %\n",
            "\n",
            "Previous approximation for h =  0.1  is:  9.879850030150621\n",
            "Present approximation for h =  0.1  is:  9.755850272288313\n",
            "RAE:  1.2710297349943072 %\n",
            "\n",
            "Previous approximation for h =  0.05  is:  9.755850272288313\n",
            "Present approximation for h =  0.05  is:  9.633908494952763\n",
            "RAE:  1.265756026221714 %\n",
            "\n",
            "Previous approximation for h =  0.01  is:  9.633908494952763\n",
            "Present approximation for h =  0.01  is:  9.537811056816992\n",
            "RAE:  1.007541851723803 %\n",
            "\n",
            "Previous approximation for h =  0.001  is:  9.537811056816992\n",
            "Present approximation for h =  0.001  is:  9.516365292672191\n",
            "RAE:  0.22535667227186426 %\n",
            "\n",
            "Previous approximation for h =  0.0001  is:  9.516365292672191\n",
            "Present approximation for h =  0.0001  is:  9.514224253237558\n",
            "RAE:  0.022503562851219523 %\n",
            "\n"
          ]
        }
      ],
      "source": [
        "# let the first approximation be for h = 0.3\n",
        "prev_approx = derivative(f, x=2, h=0.3)\n",
        "print(\"First approximation: \", prev_approx)\n",
        "print()\n",
        "\n",
        "# let the successive approximations be for decreasing values of h\n",
        "h = [0.15, 0.1, 0.05, 0.01, 0.001, 0.0001]\n",
        "for i in h:\n",
        "    present_approx = derivative(f, x=2, h=i)\n",
        "    print(\"Previous approximation for h = \", i, \" is: \", prev_approx)\n",
        "    print(\"Present approximation for h = \", i, \" is: \", present_approx)\n",
        "\n",
        "    RAE = abs(present_approx - prev_approx) * 100 / present_approx\n",
        "\n",
        "    print(\"RAE: \", RAE, \"%\")\n",
        "    print()\n",
        "    prev_approx = present_approx"
      ]
    },
    {
      "cell_type": "markdown",
      "metadata": {
        "id": "uX75qJYvhwoT"
      },
      "source": [
        "### Let's plot the errors for different values of $h$"
      ]
    },
    {
      "cell_type": "code",
      "execution_count": null,
      "metadata": {
        "id": "LSzZJZKyhwoT",
        "outputId": "7e7cc965-c562-42b5-d319-e5e89f08f8ce"
      },
      "outputs": [
        {
          "name": "stdout",
          "output_type": "stream",
          "text": [
            "h values:  [0.15, 0.1, 0.05, 0.01, 0.001, 0.0001]\n",
            "errors:  [3.8942075442316164, 1.2710297349943072, 1.265756026221714, 1.007541851723803, 0.22535667227186426, 0.022503562851219523]\n"
          ]
        },
        {
          "data": {
            "image/png": "[encoded data removed]",
            "text/plain": [
              "<Figure size 720x360 with 1 Axes>"
            ]
          },
          "metadata": {
            "needs_background": "light"
          },
          "output_type": "display_data"
        }
      ],
      "source": [
        "# let the first approximation be for h = 0.3\n",
        "prev_approx = derivative(f, x=2, h=0.3)\n",
        "\n",
        "# let the successive approximations be for decreasing values of h\n",
        "h = [0.15, 0.1, 0.05, 0.01, 0.001, 0.0001]\n",
        "errors = []\n",
        "for i in h:\n",
        "    present_approx = derivative(f, x=2, h=i)\n",
        "    RAE = abs(present_approx - prev_approx)*100/present_approx\n",
        "    errors.append(RAE)\n",
        "    prev_approx = present_approx\n",
        "\n",
        "print(\"h values: \", h)\n",
        "print(\"errors: \", errors)\n",
        "\n",
        "# plot the errors\n",
        "plt.figure(figsize=(10, 5))\n",
        "plt.plot(h, errors, marker = 'x', color = 'red', linewidth = 3, markersize = 10)\n",
        "plt.xlabel(\"h\", fontdict={'fontsize': 15})\n",
        "plt.ylabel(\"RAE\", fontdict={'fontsize': 15})\n",
        "plt.title(\"Relative Approximate Error vs Step Size\", fontdict={'fontsize': 20})\n",
        "plt.show()"
      ]
    },
    {
      "cell_type": "code",
      "execution_count": null,
      "metadata": {
        "id": "HoIF_N7IhwoU"
      },
      "outputs": [],
      "source": []
    }
  ],
  "metadata": {
    "kernelspec": {
      "display_name": "Python 3",
      "language": "python",
      "name": "python3"
    },
    "language_info": {
      "codemirror_mode": {
        "name": "ipython",
        "version": 3
      },
      "file_extension": ".py",
      "mimetype": "text/x-python",
      "name": "python",
      "nbconvert_exporter": "python",
      "pygments_lexer": "ipython3",
      "version": "3.7.4"
    },
    "orig_nbformat": 4,
    "colab": {
      "provenance": [],
      "include_colab_link": true
    }
  },
  "nbformat": 4,
  "nbformat_minor": 0
}